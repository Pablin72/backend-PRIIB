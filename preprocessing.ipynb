{
 "cells": [
  {
   "cell_type": "markdown",
   "metadata": {},
   "source": [
    "1. Primero vamos a transformar todos nuestros archivos con la extension .txt para poder manipularlos"
   ]
  },
  {
   "cell_type": "code",
   "execution_count": 5,
   "metadata": {},
   "outputs": [
    {
     "name": "stdout",
     "output_type": "stream",
     "text": [
      "Fixed file format\n"
     ]
    }
   ],
   "source": [
    "import os\n",
    "import shutil\n",
    "\n",
    "# Specify the path to the folder you want to process\n",
    "src_folder = 'reuters/test'\n",
    "# Specify the path to the destination folder\n",
    "dest_folder = 'reuters/test_txt'\n",
    "\n",
    "# Create the destination folder if it doesn't exist\n",
    "os.makedirs(dest_folder, exist_ok=True)\n",
    "\n",
    "# Iterate over all the files in the specified folder\n",
    "for filename in os.listdir(src_folder):\n",
    "    # Get the full path of the file\n",
    "    src_file_path = os.path.join(src_folder, filename)\n",
    "        \n",
    "    # Define the destination file path with .txt extension\n",
    "    dest_file_path = os.path.join(dest_folder, f\"{filename}.txt\")\n",
    "    # Copy the file to the destination folder with .txt extension\n",
    "    shutil.copy(src_file_path, dest_file_path)\n",
    "print(\"Fixed file format\")"
   ]
  },
  {
   "cell_type": "markdown",
   "metadata": {},
   "source": [
    "2. Ahora vamos a eliminar las stop words de nuestra carpeta ya con la extension correcta"
   ]
  },
  {
   "cell_type": "code",
   "execution_count": 6,
   "metadata": {},
   "outputs": [
    {
     "name": "stdout",
     "output_type": "stream",
     "text": [
      "Stop words removal and file saving completed.\n"
     ]
    }
   ],
   "source": [
    "# Load stop words from the stop words file\n",
    "stop_words_file = 'reuters/stopwords.txt'\n",
    "with open(stop_words_file, 'r', encoding='utf-8') as file:\n",
    "    stop_words = set(file.read().split())\n",
    "\n",
    "# Specify the path to the source folder and the destination folder\n",
    "src_folder = 'reuters/test_txt'\n",
    "dest_folder = 'reuters/cleaned_txt'\n",
    "\n",
    "# Create the destination folder if it doesn't exist\n",
    "os.makedirs(dest_folder, exist_ok=True)\n",
    "\n",
    "# Function to read file with different encodings\n",
    "def read_file_with_encodings(file_path):\n",
    "    encodings = ['utf-8', 'latin-1', 'iso-8859-1']\n",
    "    for encoding in encodings:\n",
    "        try:\n",
    "            with open(file_path, 'r', encoding=encoding) as file:\n",
    "                return file.read()\n",
    "        except UnicodeDecodeError:\n",
    "            continue\n",
    "    raise UnicodeDecodeError(f\"Failed to decode {file_path} with available encodings\")\n",
    "\n",
    "# Iterate over all the files in the specified folder\n",
    "for filename in os.listdir(src_folder):\n",
    "    # Get the full path of the source file\n",
    "    src_file_path = os.path.join(src_folder, filename)\n",
    "    \n",
    "    # Read the content of the file using the function\n",
    "    try:\n",
    "        content = read_file_with_encodings(src_file_path)\n",
    "    except UnicodeDecodeError as e:\n",
    "        print(e)\n",
    "        continue\n",
    "        \n",
    "    # Remove stop words from the content\n",
    "    cleaned_content = ' '.join([word for word in content.split() if word.lower() not in stop_words])\n",
    "        \n",
    "    # Define the destination file path\n",
    "    dest_file_path = os.path.join(dest_folder, filename)\n",
    "        \n",
    "    # Write the cleaned content to the destination file\n",
    "    with open(dest_file_path, 'w', encoding='utf-8') as file:\n",
    "        file.write(cleaned_content)\n",
    "        \n",
    "print(\"Stop words removal and file saving completed.\")\n"
   ]
  },
  {
   "cell_type": "code",
   "execution_count": null,
   "metadata": {},
   "outputs": [],
   "source": []
  }
 ],
 "metadata": {
  "kernelspec": {
   "display_name": "env",
   "language": "python",
   "name": "python3"
  },
  "language_info": {
   "codemirror_mode": {
    "name": "ipython",
    "version": 3
   },
   "file_extension": ".py",
   "mimetype": "text/x-python",
   "name": "python",
   "nbconvert_exporter": "python",
   "pygments_lexer": "ipython3",
   "version": "3.8.10"
  }
 },
 "nbformat": 4,
 "nbformat_minor": 2
}
